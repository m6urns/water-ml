{
 "cells": [
  {
   "cell_type": "code",
   "execution_count": 7,
   "metadata": {},
   "outputs": [],
   "source": [
    "import numpy as np \n",
    "import pandas as pd \n",
    "from sklearn.model_selection import KFold\n",
    "from sklearn.model_selection import StratifiedKFold\n",
    "from sklearn.ensemble import RandomForestRegressor\n",
    "import xgboost as xgb\n",
    "from sklearn.metrics import mean_squared_error\n",
    "import matplotlib.pyplot as plt\n",
    "import matplotlib.transforms as transforms\n",
    "import seaborn as sns\n",
    "from tqdm import tqdm\n",
    "import pickle\n",
    "from copy import deepcopy\n",
    "from sklearn.metrics import confusion_matrix\n",
    "\n",
    "# IMB Learn SMOTE implementation\n",
    "from imblearn.over_sampling import SMOTE\n",
    "\n",
    "# Import EasyEnsembleClassifier\n",
    "from imblearn.ensemble import EasyEnsembleClassifier"
   ]
  },
  {
   "cell_type": "code",
   "execution_count": 8,
   "metadata": {},
   "outputs": [],
   "source": [
    "# Load Datasets\n",
    "data_train_raw = pd.read_csv('~/Projects/water-ml/datasets/sheet_1.csv')\n",
    "data_test_raw = pd.read_csv('~/Projects/water-ml/datasets/sheet_2_3.csv')\n",
    "data_train_unlabeled = pd.read_csv('~/Projects/water-ml/datasets/sheet_3.csv')\n",
    "\n",
    "# Remove DWDS_sim_rows from data\n",
    "dwds = data_test_raw[data_test_raw['Location'] == 'DWDS Simulator (EPA, 2016)']\n",
    "\n",
    "# Drop DWDS sim data from sheets 2&3 (test_data)\n",
    "data_test = data_test_raw[data_test_raw['Location'] != 'DWDS Simulator (EPA, 2016)']\n",
    "\n",
    "# Concatenate train data and dwds data\n",
    "data_train = pd.concat([data_train_raw, dwds])\n",
    "\n",
    "# Prepare train data\n",
    "target_columns = ['Scheme', 'Sample (reference)']\n",
    "X_train = data_train_raw.drop(target_columns, axis=1)\n",
    "y_train = data_train_raw['Scheme'].map({'Stable': 1, 'Failure': 0})\n",
    "X_train.replace('ND', 0, inplace=True)\n",
    "\n",
    "# Prepare test data\n",
    "target_columns = ['Scheme', 'Sample', 'Location']\n",
    "X_test = data_test.drop(target_columns, axis=1)\n",
    "y_test = data_test['Scheme'].map({'Stable': 1, 'Failure': 0})\n",
    "X_test.replace('ND', 0, inplace=True)\n",
    "X_test.fillna(0, inplace=True)\n"
   ]
  },
  {
   "cell_type": "code",
   "execution_count": 9,
   "metadata": {},
   "outputs": [],
   "source": [
    "import numpy as np\n",
    "from sklearn.metrics import matthews_corrcoef\n",
    "import warnings\n",
    "\n",
    "def print_confusion_matrix_report(cm, y_true, y_pred):\n",
    "    tn, fp, fn, tp = cm.ravel()\n",
    "    total = np.sum(cm)\n",
    "\n",
    "    accuracy = (tp + tn) / total\n",
    "    precision = tp / (tp + fp) if (tp + fp) != 0 else 0\n",
    "    recall = tp / (tp + fn) if (tp + fn) != 0 else 0\n",
    "    specificity = tn / (tn + fp) if (tn + fp) != 0 else 0\n",
    "    f1_score = 2 * (precision * recall) / (precision + recall) if (precision + recall) != 0 else 0\n",
    "\n",
    "    mcc = matthews_corrcoef(y_true, y_pred)\n",
    "\n",
    "    print(\"Confusion Matrix:\")\n",
    "    print(cm)\n",
    "    print()\n",
    "    print(f\"True Negatives (TN): {tn}\")\n",
    "    print(f\"False Positives (FP): {fp}\")\n",
    "    print(f\"False Negatives (FN): {fn}\")\n",
    "    print(f\"True Positives (TP): {tp}\")\n",
    "    print()\n",
    "    print(f\"Accuracy: {accuracy:.3f}\")\n",
    "    print(f\"Precision: {precision:.3f}\")\n",
    "    print(f\"Recall: {recall:.3f}\")\n",
    "    print(f\"Specificity: {specificity:.3f}\")\n",
    "    print(f\"F1 Score: {f1_score:.3f}\")\n",
    "    print(f\"Matthews Correlation Coefficient (MCC): {mcc:.3f}\")\n",
    "\n",
    "    if precision == 0 and recall == 0:\n",
    "        warnings.warn(\"Precision and Recall are both zero. F1 Score may not be meaningful.\")\n",
    "    if tn + fp == 0:\n",
    "        warnings.warn(\"No negative samples. Specificity may not be meaningful.\")"
   ]
  },
  {
   "cell_type": "code",
   "execution_count": 10,
   "metadata": {},
   "outputs": [],
   "source": [
    "# Handle class imbalance, smote addresses class imbalance, no need to address the kfold split\n",
    "# smote = SMOTE()\n",
    "# X_train_smote, y_train_smote = smote.fit_resample(X_train, y_train)\n",
    "\n",
    "# Handle class imbalance, smote address class imbalance, no need to address the \n",
    "smote = SMOTE()\n",
    "X_train_smote, y_train_smote = smote.fit_resample(X_train, y_train)"
   ]
  },
  {
   "cell_type": "code",
   "execution_count": 11,
   "metadata": {},
   "outputs": [
    {
     "name": "stderr",
     "output_type": "stream",
     "text": [
      "/home/matt/miniconda3/lib/python3.11/site-packages/imblearn/ensemble/_easy_ensemble.py:286: FutureWarning: `base_estimator` was renamed to `estimator` in version 0.10 and will be removed in 0.12.\n",
      "  warnings.warn(\n",
      "/home/matt/miniconda3/lib/python3.11/site-packages/imblearn/ensemble/_easy_ensemble.py:286: FutureWarning: `base_estimator` was renamed to `estimator` in version 0.10 and will be removed in 0.12.\n",
      "  warnings.warn(\n"
     ]
    }
   ],
   "source": [
    "from sklearn.ensemble import RandomForestClassifier\n",
    "\n",
    "eec = EasyEnsembleClassifier(n_estimators=10, base_estimator=RandomForestClassifier())\n",
    "eec_smote = EasyEnsembleClassifier(n_estimators=10, base_estimator=RandomForestClassifier())\n",
    "eec.fit(X_train, y_train)\n",
    "eec_smote.fit(X_train_smote, y_train_smote)\n",
    "\n",
    "y_pred = eec.predict(X_test)\n",
    "cm = confusion_matrix(y_test, y_pred)\n",
    "\n",
    "y_pred_smote = eec_smote.predict(X_test)\n",
    "cm_smote = confusion_matrix(y_test, y_pred_smote)"
   ]
  },
  {
   "cell_type": "code",
   "execution_count": 12,
   "metadata": {},
   "outputs": [
    {
     "name": "stdout",
     "output_type": "stream",
     "text": [
      "Confusion Matrix:\n",
      "[[ 5 43]\n",
      " [ 3 99]]\n",
      "\n",
      "True Negatives (TN): 5\n",
      "False Positives (FP): 43\n",
      "False Negatives (FN): 3\n",
      "True Positives (TP): 99\n",
      "\n",
      "Accuracy: 0.693\n",
      "Precision: 0.697\n",
      "Recall: 0.971\n",
      "Specificity: 0.104\n",
      "F1 Score: 0.811\n",
      "Matthews Correlation Coefficient (MCC): 0.166\n"
     ]
    }
   ],
   "source": [
    "# With SMOTE\n",
    "print_confusion_matrix_report(cm_smote, y_test, y_pred)"
   ]
  },
  {
   "cell_type": "code",
   "execution_count": 13,
   "metadata": {},
   "outputs": [
    {
     "name": "stdout",
     "output_type": "stream",
     "text": [
      "Confusion Matrix:\n",
      "[[ 7 41]\n",
      " [ 5 97]]\n",
      "\n",
      "True Negatives (TN): 7\n",
      "False Positives (FP): 41\n",
      "False Negatives (FN): 5\n",
      "True Positives (TP): 97\n",
      "\n",
      "Accuracy: 0.693\n",
      "Precision: 0.703\n",
      "Recall: 0.951\n",
      "Specificity: 0.146\n",
      "F1 Score: 0.808\n",
      "Matthews Correlation Coefficient (MCC): 0.166\n"
     ]
    }
   ],
   "source": [
    "# Without SMOTE\n",
    "print_confusion_matrix_report(cm, y_test, y_pred)"
   ]
  }
 ],
 "metadata": {
  "kernelspec": {
   "display_name": "base",
   "language": "python",
   "name": "python3"
  },
  "language_info": {
   "codemirror_mode": {
    "name": "ipython",
    "version": 3
   },
   "file_extension": ".py",
   "mimetype": "text/x-python",
   "name": "python",
   "nbconvert_exporter": "python",
   "pygments_lexer": "ipython3",
   "version": "3.11.5"
  }
 },
 "nbformat": 4,
 "nbformat_minor": 2
}
